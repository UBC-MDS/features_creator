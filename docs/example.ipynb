{
 "cells": [
  {
   "cell_type": "markdown",
   "metadata": {},
   "source": [
    "# Example Usage\n",
    "\n",
    "`features creator` is a package for creating features that capture important trends in data. It can be used in telecommunications, finance, or any other domain where time-based patterns in data are required.\n",
    "\n",
    "For example, a telecommunications operator, wants to prevent churn by predicting which subscribers' revenue will decline next month so that it can devise strategies to retain those customers. This type of prediction task necessitates the creation of a large number of features that capture trends in data over a period of several months for various dimensions such as recharge, revenue, number of complaints, network usage, number of active days, and so on. This package will assist them in developing features such as standard deviation for the previous n months, average for the previous n months, percentage change from m - 2 to m-1, and so on."
   ]
  },
  {
   "cell_type": "code",
   "execution_count": 1,
   "metadata": {},
   "outputs": [
    {
     "data": {
      "text/html": [
       "<div>\n",
       "<style scoped>\n",
       "    .dataframe tbody tr th:only-of-type {\n",
       "        vertical-align: middle;\n",
       "    }\n",
       "\n",
       "    .dataframe tbody tr th {\n",
       "        vertical-align: top;\n",
       "    }\n",
       "\n",
       "    .dataframe thead th {\n",
       "        text-align: right;\n",
       "    }\n",
       "</style>\n",
       "<table border=\"1\" class=\"dataframe\">\n",
       "  <thead>\n",
       "    <tr style=\"text-align: right;\">\n",
       "      <th></th>\n",
       "      <th>subscriber_id</th>\n",
       "      <th>data_usage1</th>\n",
       "      <th>data_usage2</th>\n",
       "      <th>data_usage3</th>\n",
       "      <th>data_usage4</th>\n",
       "      <th>data_usage5</th>\n",
       "      <th>othercolumn</th>\n",
       "      <th>data_usage_string6</th>\n",
       "    </tr>\n",
       "  </thead>\n",
       "  <tbody>\n",
       "    <tr>\n",
       "      <th>0</th>\n",
       "      <td>1</td>\n",
       "      <td>10</td>\n",
       "      <td>4</td>\n",
       "      <td>7</td>\n",
       "      <td>10</td>\n",
       "      <td>13</td>\n",
       "      <td>5</td>\n",
       "      <td>5</td>\n",
       "    </tr>\n",
       "    <tr>\n",
       "      <th>1</th>\n",
       "      <td>2</td>\n",
       "      <td>5</td>\n",
       "      <td>5</td>\n",
       "      <td>8</td>\n",
       "      <td>11</td>\n",
       "      <td>14</td>\n",
       "      <td>6</td>\n",
       "      <td>6</td>\n",
       "    </tr>\n",
       "    <tr>\n",
       "      <th>2</th>\n",
       "      <td>3</td>\n",
       "      <td>3</td>\n",
       "      <td>6</td>\n",
       "      <td>9</td>\n",
       "      <td>12</td>\n",
       "      <td>15</td>\n",
       "      <td>7</td>\n",
       "      <td>7</td>\n",
       "    </tr>\n",
       "  </tbody>\n",
       "</table>\n",
       "</div>"
      ],
      "text/plain": [
       "   subscriber_id  data_usage1  data_usage2  data_usage3  data_usage4  \\\n",
       "0              1           10            4            7           10   \n",
       "1              2            5            5            8           11   \n",
       "2              3            3            6            9           12   \n",
       "\n",
       "   data_usage5  othercolumn  data_usage_string6  \n",
       "0           13            5                   5  \n",
       "1           14            6                   6  \n",
       "2           15            7                   7  "
      ]
     },
     "execution_count": 1,
     "metadata": {},
     "output_type": "execute_result"
    }
   ],
   "source": [
    "import pandas as pd\n",
    "\n",
    "example_data = pd.DataFrame({\n",
    "        \"subscriber_id\": [1, 2, 3],\n",
    "        \"data_usage1\": [10, 5, 3],  # 1 represent data usage in prediction month (m) - 1\n",
    "        \"data_usage2\": [4, 5, 6],  # m - 2\n",
    "        \"data_usage3\": [7, 8, 9],  # m - 3\n",
    "        \"data_usage4\": [10, 11, 12], # m - 4\n",
    "        \"data_usage5\": [13, 14, 15],  # m - 5\n",
    "        \"othercolumn\": [5, 6, 7],  # Other example column\n",
    "        \"data_usage_string6\": [5, 6, 7]  # Other example column with an integer\n",
    "    })\n",
    "\n",
    "example_data"
   ]
  },
  {
   "cell_type": "markdown",
   "metadata": {},
   "source": [
    "It is important to note that the columns of interest in the dataframe should all have the same name and an incrementing integer as the last character (s)."
   ]
  },
  {
   "cell_type": "markdown",
   "metadata": {},
   "source": [
    "## `get_matching_column_names`\n",
    "\n",
    "This function returns a list of matching columns given a column pattern."
   ]
  },
  {
   "cell_type": "code",
   "execution_count": 2,
   "metadata": {},
   "outputs": [
    {
     "data": {
      "text/plain": [
       "['data_usage1', 'data_usage2', 'data_usage3', 'data_usage4', 'data_usage5']"
      ]
     },
     "execution_count": 2,
     "metadata": {},
     "output_type": "execute_result"
    }
   ],
   "source": [
    "from features_creator.features_creator import get_matching_column_names\n",
    "get_matching_column_names(example_data, \"data_usage\")"
   ]
  },
  {
   "cell_type": "markdown",
   "metadata": {},
   "source": [
    "## `calculate_standard_deviation`\n",
    "\n",
    "This function computes the standard deviation of each subscriber's data usage over all recorded months (rowwise). It takes two arguments: the dataframe to use and the pattern to match. The pattern to match is the prefix of the column name of interest not including the incrementing integer at the end."
   ]
  },
  {
   "cell_type": "code",
   "execution_count": 3,
   "metadata": {},
   "outputs": [
    {
     "data": {
      "text/html": [
       "<div>\n",
       "<style scoped>\n",
       "    .dataframe tbody tr th:only-of-type {\n",
       "        vertical-align: middle;\n",
       "    }\n",
       "\n",
       "    .dataframe tbody tr th {\n",
       "        vertical-align: top;\n",
       "    }\n",
       "\n",
       "    .dataframe thead th {\n",
       "        text-align: right;\n",
       "    }\n",
       "</style>\n",
       "<table border=\"1\" class=\"dataframe\">\n",
       "  <thead>\n",
       "    <tr style=\"text-align: right;\">\n",
       "      <th></th>\n",
       "      <th>subscriber_id</th>\n",
       "      <th>data_usage1</th>\n",
       "      <th>data_usage2</th>\n",
       "      <th>data_usage3</th>\n",
       "      <th>data_usage4</th>\n",
       "      <th>data_usage5</th>\n",
       "      <th>othercolumn</th>\n",
       "      <th>data_usage_string6</th>\n",
       "      <th>std_dev</th>\n",
       "    </tr>\n",
       "  </thead>\n",
       "  <tbody>\n",
       "    <tr>\n",
       "      <th>0</th>\n",
       "      <td>1</td>\n",
       "      <td>10</td>\n",
       "      <td>4</td>\n",
       "      <td>7</td>\n",
       "      <td>10</td>\n",
       "      <td>13</td>\n",
       "      <td>5</td>\n",
       "      <td>5</td>\n",
       "      <td>3.059412</td>\n",
       "    </tr>\n",
       "    <tr>\n",
       "      <th>1</th>\n",
       "      <td>2</td>\n",
       "      <td>5</td>\n",
       "      <td>5</td>\n",
       "      <td>8</td>\n",
       "      <td>11</td>\n",
       "      <td>14</td>\n",
       "      <td>6</td>\n",
       "      <td>6</td>\n",
       "      <td>3.498571</td>\n",
       "    </tr>\n",
       "    <tr>\n",
       "      <th>2</th>\n",
       "      <td>3</td>\n",
       "      <td>3</td>\n",
       "      <td>6</td>\n",
       "      <td>9</td>\n",
       "      <td>12</td>\n",
       "      <td>15</td>\n",
       "      <td>7</td>\n",
       "      <td>7</td>\n",
       "      <td>4.242641</td>\n",
       "    </tr>\n",
       "  </tbody>\n",
       "</table>\n",
       "</div>"
      ],
      "text/plain": [
       "   subscriber_id  data_usage1  data_usage2  data_usage3  data_usage4  \\\n",
       "0              1           10            4            7           10   \n",
       "1              2            5            5            8           11   \n",
       "2              3            3            6            9           12   \n",
       "\n",
       "   data_usage5  othercolumn  data_usage_string6   std_dev  \n",
       "0           13            5                   5  3.059412  \n",
       "1           14            6                   6  3.498571  \n",
       "2           15            7                   7  4.242641  "
      ]
     },
     "execution_count": 3,
     "metadata": {},
     "output_type": "execute_result"
    }
   ],
   "source": [
    "from features_creator.features_creator import calculate_standard_deviation\n",
    "calculate_standard_deviation(example_data, \"data_usage\")"
   ]
  },
  {
   "cell_type": "markdown",
   "metadata": {},
   "source": [
    "## `calculate_average`\n",
    "\n",
    "This function computes the average of each subscriber's data usage over all recorded months (rowwise). It takes two arguments: the dataframe to use and the pattern to match. The pattern to match is the prefix of the column name of interest not including the incrementing integer at the end.\n"
   ]
  },
  {
   "cell_type": "code",
   "execution_count": 4,
   "metadata": {},
   "outputs": [
    {
     "data": {
      "text/html": [
       "<div>\n",
       "<style scoped>\n",
       "    .dataframe tbody tr th:only-of-type {\n",
       "        vertical-align: middle;\n",
       "    }\n",
       "\n",
       "    .dataframe tbody tr th {\n",
       "        vertical-align: top;\n",
       "    }\n",
       "\n",
       "    .dataframe thead th {\n",
       "        text-align: right;\n",
       "    }\n",
       "</style>\n",
       "<table border=\"1\" class=\"dataframe\">\n",
       "  <thead>\n",
       "    <tr style=\"text-align: right;\">\n",
       "      <th></th>\n",
       "      <th>subscriber_id</th>\n",
       "      <th>data_usage1</th>\n",
       "      <th>data_usage2</th>\n",
       "      <th>data_usage3</th>\n",
       "      <th>data_usage4</th>\n",
       "      <th>data_usage5</th>\n",
       "      <th>othercolumn</th>\n",
       "      <th>data_usage_string6</th>\n",
       "      <th>std_dev</th>\n",
       "      <th>average</th>\n",
       "    </tr>\n",
       "  </thead>\n",
       "  <tbody>\n",
       "    <tr>\n",
       "      <th>0</th>\n",
       "      <td>1</td>\n",
       "      <td>10</td>\n",
       "      <td>4</td>\n",
       "      <td>7</td>\n",
       "      <td>10</td>\n",
       "      <td>13</td>\n",
       "      <td>5</td>\n",
       "      <td>5</td>\n",
       "      <td>3.059412</td>\n",
       "      <td>8.8</td>\n",
       "    </tr>\n",
       "    <tr>\n",
       "      <th>1</th>\n",
       "      <td>2</td>\n",
       "      <td>5</td>\n",
       "      <td>5</td>\n",
       "      <td>8</td>\n",
       "      <td>11</td>\n",
       "      <td>14</td>\n",
       "      <td>6</td>\n",
       "      <td>6</td>\n",
       "      <td>3.498571</td>\n",
       "      <td>8.6</td>\n",
       "    </tr>\n",
       "    <tr>\n",
       "      <th>2</th>\n",
       "      <td>3</td>\n",
       "      <td>3</td>\n",
       "      <td>6</td>\n",
       "      <td>9</td>\n",
       "      <td>12</td>\n",
       "      <td>15</td>\n",
       "      <td>7</td>\n",
       "      <td>7</td>\n",
       "      <td>4.242641</td>\n",
       "      <td>9.0</td>\n",
       "    </tr>\n",
       "  </tbody>\n",
       "</table>\n",
       "</div>"
      ],
      "text/plain": [
       "   subscriber_id  data_usage1  data_usage2  data_usage3  data_usage4  \\\n",
       "0              1           10            4            7           10   \n",
       "1              2            5            5            8           11   \n",
       "2              3            3            6            9           12   \n",
       "\n",
       "   data_usage5  othercolumn  data_usage_string6   std_dev  average  \n",
       "0           13            5                   5  3.059412      8.8  \n",
       "1           14            6                   6  3.498571      8.6  \n",
       "2           15            7                   7  4.242641      9.0  "
      ]
     },
     "execution_count": 4,
     "metadata": {},
     "output_type": "execute_result"
    }
   ],
   "source": [
    "from features_creator.features_creator import calculate_average\n",
    "calculate_average(example_data, \"data_usage\")"
   ]
  },
  {
   "cell_type": "markdown",
   "metadata": {},
   "source": [
    "## `calculate_percentage_change`\n",
    "\n",
    "The `calculate_percentage_change` function aims to generate new features to capture trends over time for a given comparison period. The `compare_period` argument is used to indicate which time periods to compare. For example, if we set it to `(1, 1)`, the function calculates the percent change from the last month data usage (data_usage1), to the month before that (data_usage2)."
   ]
  },
  {
   "cell_type": "code",
   "execution_count": 5,
   "metadata": {},
   "outputs": [
    {
     "data": {
      "text/plain": [
       "array([150.,   0., -50.])"
      ]
     },
     "execution_count": 5,
     "metadata": {},
     "output_type": "execute_result"
    }
   ],
   "source": [
    "from features_creator.features_creator import calculate_percentage_change\n",
    "calculate_percentage_change(example_data, \"data_usage\", compare_period=(1, 1))"
   ]
  },
  {
   "cell_type": "markdown",
   "metadata": {},
   "source": [
    "Create percentage change of data usage in last 2 months (`data_usage1`, `data_usage2`) versus previous 2 months (`data_usage3`, `data_usage4`) by setting `compare_period=(2, 2)`."
   ]
  },
  {
   "cell_type": "code",
   "execution_count": 6,
   "metadata": {},
   "outputs": [
    {
     "data": {
      "text/plain": [
       "array([-17.64705882, -47.36842105, -57.14285714])"
      ]
     },
     "execution_count": 6,
     "metadata": {},
     "output_type": "execute_result"
    }
   ],
   "source": [
    "calculate_percentage_change(example_data, \"data_usage\", compare_period=(2, 2))\n"
   ]
  },
  {
   "cell_type": "markdown",
   "metadata": {},
   "source": [
    "Create percentage change of data usage in last 2 months (`data_usage1`, `data_usage2`) versus previous 3 months (`data_usage3`, `data_usage4`, `data_usage5`) by setting `compare_period=(2, 3)`. Comparison periods are brought to the same scales for a fare comparison."
   ]
  },
  {
   "cell_type": "code",
   "execution_count": 7,
   "metadata": {},
   "outputs": [
    {
     "data": {
      "text/plain": [
       "array([-30.        , -54.54545455, -62.5       ])"
      ]
     },
     "execution_count": 7,
     "metadata": {},
     "output_type": "execute_result"
    }
   ],
   "source": [
    "calculate_percentage_change(example_data, \"data_usage\", compare_period=(2, 3))"
   ]
  },
  {
   "cell_type": "markdown",
   "metadata": {},
   "source": [
    "To capture percentage changes for few particular months, a `time_filter` can be specified. Create percentage change of data usage in `m - 2` and  `m - 3` (that is `data_usage2` and `data_usage3`) versus `m - 4` and `m - 5` (that is `data_usage4` and `data_usage5`) where m is the prediction month.  "
   ]
  },
  {
   "cell_type": "code",
   "execution_count": 8,
   "metadata": {},
   "outputs": [
    {
     "data": {
      "text/plain": [
       "array([-52.17391304, -48.        , -44.44444444])"
      ]
     },
     "execution_count": 8,
     "metadata": {},
     "output_type": "execute_result"
    }
   ],
   "source": [
    "calculate_percentage_change(example_data, \"data_usage\", compare_period=(2, 2), time_filter=(2, 3, 4, 5))"
   ]
  }
 ],
 "metadata": {
  "interpreter": {
   "hash": "960a171bd4762c6741184f4c66ade70b06de8cf386ab71983c123bb6a0788cca"
  },
  "kernelspec": {
   "display_name": "Python 3.9.9 64-bit ('features_creator': conda)",
   "language": "python",
   "name": "python3"
  },
  "language_info": {
   "codemirror_mode": {
    "name": "ipython",
    "version": 3
   },
   "file_extension": ".py",
   "mimetype": "text/x-python",
   "name": "python",
   "nbconvert_exporter": "python",
   "pygments_lexer": "ipython3",
   "version": "3.9.9"
  },
  "orig_nbformat": 4
 },
 "nbformat": 4,
 "nbformat_minor": 2
}
