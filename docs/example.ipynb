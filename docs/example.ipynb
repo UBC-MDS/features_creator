{
 "cells": [
  {
   "cell_type": "markdown",
   "metadata": {},
   "source": [
    "# Example usage"
   ]
  },
  {
   "cell_type": "markdown",
   "metadata": {},
   "source": [
    "The `features_creator` package was designed for use with `pandas` dataframes storing temporal data.\n",
    "\n",
    "For example, assume that you are working with a dataset for a telecommunications company that records the weekly payments from its customers. You have a dataframe with rows for individual customers and columns for the payment that they made at a particular week. Your task is to engineer some new features from this data to help with some prediction task."
   ]
  },
  {
   "cell_type": "code",
   "execution_count": 17,
   "metadata": {},
   "outputs": [
    {
     "data": {
      "text/html": [
       "<div>\n",
       "<style scoped>\n",
       "    .dataframe tbody tr th:only-of-type {\n",
       "        vertical-align: middle;\n",
       "    }\n",
       "\n",
       "    .dataframe tbody tr th {\n",
       "        vertical-align: top;\n",
       "    }\n",
       "\n",
       "    .dataframe thead th {\n",
       "        text-align: right;\n",
       "    }\n",
       "</style>\n",
       "<table border=\"1\" class=\"dataframe\">\n",
       "  <thead>\n",
       "    <tr style=\"text-align: right;\">\n",
       "      <th></th>\n",
       "      <th>week_payment1</th>\n",
       "      <th>week_payment2</th>\n",
       "      <th>week_payment3</th>\n",
       "      <th>week_payment4</th>\n",
       "      <th>week_payment5</th>\n",
       "      <th>othercolumn</th>\n",
       "      <th>week_payment_string6</th>\n",
       "    </tr>\n",
       "  </thead>\n",
       "  <tbody>\n",
       "    <tr>\n",
       "      <th>0</th>\n",
       "      <td>1</td>\n",
       "      <td>4</td>\n",
       "      <td>7</td>\n",
       "      <td>10</td>\n",
       "      <td>13</td>\n",
       "      <td>5</td>\n",
       "      <td>5</td>\n",
       "    </tr>\n",
       "    <tr>\n",
       "      <th>1</th>\n",
       "      <td>2</td>\n",
       "      <td>5</td>\n",
       "      <td>8</td>\n",
       "      <td>11</td>\n",
       "      <td>14</td>\n",
       "      <td>6</td>\n",
       "      <td>6</td>\n",
       "    </tr>\n",
       "    <tr>\n",
       "      <th>2</th>\n",
       "      <td>3</td>\n",
       "      <td>6</td>\n",
       "      <td>9</td>\n",
       "      <td>12</td>\n",
       "      <td>15</td>\n",
       "      <td>7</td>\n",
       "      <td>7</td>\n",
       "    </tr>\n",
       "  </tbody>\n",
       "</table>\n",
       "</div>"
      ],
      "text/plain": [
       "   week_payment1  week_payment2  week_payment3  week_payment4  week_payment5  \\\n",
       "0              1              4              7             10             13   \n",
       "1              2              5              8             11             14   \n",
       "2              3              6              9             12             15   \n",
       "\n",
       "   othercolumn  week_payment_string6  \n",
       "0            5                     5  \n",
       "1            6                     6  \n",
       "2            7                     7  "
      ]
     },
     "execution_count": 17,
     "metadata": {},
     "output_type": "execute_result"
    }
   ],
   "source": [
    "import pandas as pd\n",
    "\n",
    "# TODO: make better numbers\n",
    "example_data = pd.DataFrame({\n",
    "        \"week_payment1\": [1, 2, 3],  # Columns of interest\n",
    "        \"week_payment2\": [4, 5, 6],\n",
    "        \"week_payment3\": [7, 8, 9],\n",
    "        \"week_payment4\": [10, 11, 12],\n",
    "        \"week_payment5\": [13, 14, 15],\n",
    "        \"othercolumn\": [5, 6, 7],  # Other example column\n",
    "        \"week_payment_string6\": [5, 6, 7]  # Other example column with an integer\n",
    "    })\n",
    "\n",
    "example_data"
   ]
  },
  {
   "cell_type": "markdown",
   "metadata": {},
   "source": [
    "Note that the columns of interest in the dataframe should all have the same name and should have an incrementing integer as the last character(s)."
   ]
  },
  {
   "cell_type": "markdown",
   "metadata": {},
   "source": [
    "The `calculate_average` function allows you to calculate the average payment that each customer has made across all the recorded weeks. It takes two arguments: the dataframe to use and the pattern to match. The pattern to match is the prefix of the column name of interest not including the incrementing integer at the end."
   ]
  },
  {
   "cell_type": "code",
   "execution_count": 11,
   "metadata": {},
   "outputs": [
    {
     "data": {
      "text/plain": [
       "array([7., 8., 9.])"
      ]
     },
     "execution_count": 11,
     "metadata": {},
     "output_type": "execute_result"
    }
   ],
   "source": [
    "from features_creator.features_creator import calculate_average\n",
    "\n",
    "calculate_average(example_data, \"week_payment\")"
   ]
  },
  {
   "cell_type": "markdown",
   "metadata": {},
   "source": [
    "Similarly, the `calculate_standard_deviation` function allows you to calculate the standard deviation in the payment amount that each customer has made across all the recorded weeks."
   ]
  },
  {
   "cell_type": "code",
   "execution_count": 12,
   "metadata": {},
   "outputs": [
    {
     "data": {
      "text/html": [
       "<div>\n",
       "<style scoped>\n",
       "    .dataframe tbody tr th:only-of-type {\n",
       "        vertical-align: middle;\n",
       "    }\n",
       "\n",
       "    .dataframe tbody tr th {\n",
       "        vertical-align: top;\n",
       "    }\n",
       "\n",
       "    .dataframe thead th {\n",
       "        text-align: right;\n",
       "    }\n",
       "</style>\n",
       "<table border=\"1\" class=\"dataframe\">\n",
       "  <thead>\n",
       "    <tr style=\"text-align: right;\">\n",
       "      <th></th>\n",
       "      <th>week_payment_std</th>\n",
       "    </tr>\n",
       "  </thead>\n",
       "  <tbody>\n",
       "    <tr>\n",
       "      <th>0</th>\n",
       "      <td>18.0</td>\n",
       "    </tr>\n",
       "    <tr>\n",
       "      <th>1</th>\n",
       "      <td>18.0</td>\n",
       "    </tr>\n",
       "    <tr>\n",
       "      <th>2</th>\n",
       "      <td>18.0</td>\n",
       "    </tr>\n",
       "  </tbody>\n",
       "</table>\n",
       "</div>"
      ],
      "text/plain": [
       "   week_payment_std\n",
       "0              18.0\n",
       "1              18.0\n",
       "2              18.0"
      ]
     },
     "execution_count": 12,
     "metadata": {},
     "output_type": "execute_result"
    }
   ],
   "source": [
    "from features_creator.features_creator import calculate_standard_deviation\n",
    "\n",
    "calculate_standard_deviation(example_data, \"week_payment\")"
   ]
  },
  {
   "cell_type": "markdown",
   "metadata": {},
   "source": [
    "# TODO: how `percentage_change`?"
   ]
  },
  {
   "cell_type": "code",
   "execution_count": 13,
   "metadata": {},
   "outputs": [
    {
     "data": {
      "text/plain": [
       "array([-75., -60., -50.])"
      ]
     },
     "execution_count": 13,
     "metadata": {},
     "output_type": "execute_result"
    }
   ],
   "source": [
    "from features_creator.features_creator import calculate_percentage_change\n",
    "\n",
    "calculate_percentage_change(example_data, \"week_payment\", compare_period=(1,1))"
   ]
  },
  {
   "cell_type": "code",
   "execution_count": 14,
   "metadata": {},
   "outputs": [
    {
     "data": {
      "text/plain": [
       "array([-70.58823529, -63.15789474, -57.14285714])"
      ]
     },
     "execution_count": 14,
     "metadata": {},
     "output_type": "execute_result"
    }
   ],
   "source": [
    "calculate_percentage_change(example_data, \"week_payment\", compare_period=(2,2))"
   ]
  },
  {
   "cell_type": "code",
   "execution_count": 15,
   "metadata": {},
   "outputs": [
    {
     "data": {
      "text/plain": [
       "array([-64.28571429, -56.25      , -50.        ])"
      ]
     },
     "execution_count": 15,
     "metadata": {},
     "output_type": "execute_result"
    }
   ],
   "source": [
    "calculate_percentage_change(example_data, \"week_payment\", compare_period=(2,1))"
   ]
  },
  {
   "cell_type": "markdown",
   "metadata": {},
   "source": [
    "Lastly, the `get_matching_column_names` function is what is used to extract the columns from the dataframe that match the given pattern. This function does not create new features but it is made public for transparency and to help with any troubleshooting. Notice how only the matching column names are returned."
   ]
  },
  {
   "cell_type": "code",
   "execution_count": 18,
   "metadata": {},
   "outputs": [
    {
     "data": {
      "text/plain": [
       "['week_payment1',\n",
       " 'week_payment2',\n",
       " 'week_payment3',\n",
       " 'week_payment4',\n",
       " 'week_payment5']"
      ]
     },
     "execution_count": 18,
     "metadata": {},
     "output_type": "execute_result"
    }
   ],
   "source": [
    "from features_creator.features_creator import get_matching_column_names\n",
    "\n",
    "get_matching_column_names(example_data, \"week_payment\")"
   ]
  },
  {
   "cell_type": "code",
   "execution_count": null,
   "metadata": {},
   "outputs": [],
   "source": []
  }
 ],
 "metadata": {
  "kernelspec": {
   "display_name": "Python 3",
   "language": "python",
   "name": "python3"
  },
  "language_info": {
   "codemirror_mode": {
    "name": "ipython",
    "version": 3
   },
   "file_extension": ".py",
   "mimetype": "text/x-python",
   "name": "python",
   "nbconvert_exporter": "python",
   "pygments_lexer": "ipython3",
   "version": "3.8.5"
  }
 },
 "nbformat": 4,
 "nbformat_minor": 4
}
